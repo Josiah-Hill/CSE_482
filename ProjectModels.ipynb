{
 "cells": [
  {
   "cell_type": "code",
   "execution_count": 1,
   "id": "9dc926c9",
   "metadata": {},
   "outputs": [],
   "source": [
    "# Transformations for modeling"
   ]
  },
  {
   "cell_type": "code",
   "execution_count": 1,
   "id": "5712155e",
   "metadata": {},
   "outputs": [],
   "source": [
    "import numpy as np\n",
    "import pandas as pd\n",
    "import seaborn as sns\n",
    "import matplotlib.pyplot as plt\n",
    "import xgboost as xgb\n",
    "from sklearn.preprocessing import StandardScaler\n",
    "from statsmodels.stats.outliers_influence import variance_inflation_factor\n",
    "from statsmodels.tools.tools import add_constant\n",
    "from sklearn.linear_model import LinearRegression\n",
    "from sklearn.preprocessing import LabelEncoder, OneHotEncoder\n",
    "from sklearn.model_selection import train_test_split, KFold\n",
    "from sklearn.metrics import mean_squared_error, r2_score\n",
    "from sklearn.model_selection import cross_val_score\n",
    "from sklearn.tree import DecisionTreeRegressor\n",
    "from sklearn.ensemble import RandomForestRegressor\n",
    "from sklearn.decomposition import PCA\n",
    "from sklearn.neural_network import MLPRegressor\n",
    "from sklearn.kernel_ridge import KernelRidge\n",
    "from sklearn.model_selection import GridSearchCV\n",
    "from sklearn.svm import SVR\n",
    "from sklearn.linear_model import SGDRegressor\n",
    "from sklearn.pipeline import make_pipeline\n"
   ]
  },
  {
   "cell_type": "code",
   "execution_count": 2,
   "id": "fc84ca7c",
   "metadata": {},
   "outputs": [],
   "source": [
    "touse = pd.read_csv(\"gamedata.csv\")\n",
    "\n",
    "#touse.isnull().sum()\n"
   ]
  },
  {
   "cell_type": "markdown",
   "id": "c6ebe376",
   "metadata": {},
   "source": [
    "- We need to dropna in possession time, there are only 7 accounts of this but no explanation as to why a team would not have zerp possession time alongside stats. Then we will fill all other na values with 0 as we have determined that null values are equivalent to 0."
   ]
  },
  {
   "cell_type": "code",
   "execution_count": 3,
   "id": "9e7c99b0",
   "metadata": {},
   "outputs": [
    {
     "data": {
      "text/plain": [
       "Game Id                0\n",
       "School                 0\n",
       "Conference             0\n",
       "HomeAway               0\n",
       "Points                 0\n",
       "completionAttempts     0\n",
       "firstDowns             0\n",
       "fourthDownEff          0\n",
       "fumblesLost            0\n",
       "fumblesRecovered       0\n",
       "interceptionYards      0\n",
       "interceptions          0\n",
       "kickReturnYards        0\n",
       "kickReturns            0\n",
       "netPassingYards        0\n",
       "passesDeflected        0\n",
       "passesIntercepted      0\n",
       "possessionTime         0\n",
       "puntReturnYards        0\n",
       "puntReturns            0\n",
       "qbHurries              0\n",
       "rushingAttempts        0\n",
       "rushingYards           0\n",
       "sacks                  0\n",
       "tackles                0\n",
       "tacklesForLoss         0\n",
       "thirdDownEff           0\n",
       "totalFumbles           0\n",
       "totalYards             0\n",
       "turnovers              0\n",
       "yardsPerPass           0\n",
       "yardsPerRushAttempt    0\n",
       "totalPenalties         0\n",
       "penaltyYards           0\n",
       "dtype: int64"
      ]
     },
     "execution_count": 3,
     "metadata": {},
     "output_type": "execute_result"
    }
   ],
   "source": [
    "# touse['possessionTime'] = touse['possessionTime'].fillna('00:00')\n",
    "\n",
    "touse = touse.dropna(subset=['possessionTime'])\n",
    "\n",
    "cleaned = touse.fillna(0)\n",
    "\n",
    "cleaned.isnull().sum()"
   ]
  },
  {
   "cell_type": "markdown",
   "id": "8b361635",
   "metadata": {},
   "source": [
    "- We need to drop the 'Game Id' column"
   ]
  },
  {
   "cell_type": "code",
   "execution_count": 4,
   "id": "963acc20",
   "metadata": {},
   "outputs": [
    {
     "data": {
      "text/plain": [
       "School                 0\n",
       "Conference             0\n",
       "HomeAway               0\n",
       "Points                 0\n",
       "completionAttempts     0\n",
       "firstDowns             0\n",
       "fourthDownEff          0\n",
       "fumblesLost            0\n",
       "fumblesRecovered       0\n",
       "interceptionYards      0\n",
       "interceptions          0\n",
       "kickReturnYards        0\n",
       "kickReturns            0\n",
       "netPassingYards        0\n",
       "passesDeflected        0\n",
       "passesIntercepted      0\n",
       "possessionTime         0\n",
       "puntReturnYards        0\n",
       "puntReturns            0\n",
       "qbHurries              0\n",
       "rushingAttempts        0\n",
       "rushingYards           0\n",
       "sacks                  0\n",
       "tackles                0\n",
       "tacklesForLoss         0\n",
       "thirdDownEff           0\n",
       "totalFumbles           0\n",
       "totalYards             0\n",
       "turnovers              0\n",
       "yardsPerPass           0\n",
       "yardsPerRushAttempt    0\n",
       "totalPenalties         0\n",
       "penaltyYards           0\n",
       "dtype: int64"
      ]
     },
     "execution_count": 4,
     "metadata": {},
     "output_type": "execute_result"
    }
   ],
   "source": [
    "dropped = cleaned.drop(columns = [\"Game Id\"])\n",
    "\n",
    "#dropped\n",
    "\n",
    "dropped.isna().sum()"
   ]
  },
  {
   "cell_type": "markdown",
   "id": "23aaa7be",
   "metadata": {},
   "source": [
    "- Assign dataframe to new name"
   ]
  },
  {
   "cell_type": "code",
   "execution_count": 5,
   "id": "566f02a0",
   "metadata": {},
   "outputs": [],
   "source": [
    "test = dropped\n",
    "\n",
    "# print(test['possessionTime'].to_string())"
   ]
  },
  {
   "cell_type": "markdown",
   "id": "b5dd072d",
   "metadata": {},
   "source": [
    "- We need to create a function to get possession time into seconds from a string."
   ]
  },
  {
   "cell_type": "code",
   "execution_count": 6,
   "id": "ce7ca146",
   "metadata": {},
   "outputs": [],
   "source": [
    "# change possession time to seconds\n",
    "\n",
    "def get_seconds(time_str):\n",
    "    w = np.array([time_str.split(':')])\n",
    "    mm,ss = w[:,0],w[:,1]\n",
    "    return int(mm) * 60 + int(ss)\n",
    "\n"
   ]
  },
  {
   "cell_type": "markdown",
   "id": "0d247718",
   "metadata": {},
   "source": [
    "- We need to apply function rowwise and save to new column"
   ]
  },
  {
   "cell_type": "code",
   "execution_count": 7,
   "id": "f582910b",
   "metadata": {},
   "outputs": [],
   "source": [
    "test['newposs'] = test.loc[:,'possessionTime'].apply(lambda row: get_seconds(str(row)))\n",
    "\n",
    "\n",
    "#test[['possessionTime','newposs']]"
   ]
  },
  {
   "cell_type": "markdown",
   "id": "3d69af6c",
   "metadata": {},
   "source": [
    "- We need to drop old column for possessiontime and rename new one as same"
   ]
  },
  {
   "cell_type": "code",
   "execution_count": 8,
   "id": "ea25bf5c",
   "metadata": {},
   "outputs": [
    {
     "data": {
      "text/plain": [
       "School                 0\n",
       "Conference             0\n",
       "HomeAway               0\n",
       "Points                 0\n",
       "completionAttempts     0\n",
       "firstDowns             0\n",
       "fourthDownEff          0\n",
       "fumblesLost            0\n",
       "fumblesRecovered       0\n",
       "interceptionYards      0\n",
       "interceptions          0\n",
       "kickReturnYards        0\n",
       "kickReturns            0\n",
       "netPassingYards        0\n",
       "passesDeflected        0\n",
       "passesIntercepted      0\n",
       "puntReturnYards        0\n",
       "puntReturns            0\n",
       "qbHurries              0\n",
       "rushingAttempts        0\n",
       "rushingYards           0\n",
       "sacks                  0\n",
       "tackles                0\n",
       "tacklesForLoss         0\n",
       "thirdDownEff           0\n",
       "totalFumbles           0\n",
       "totalYards             0\n",
       "turnovers              0\n",
       "yardsPerPass           0\n",
       "yardsPerRushAttempt    0\n",
       "totalPenalties         0\n",
       "penaltyYards           0\n",
       "possessionTime         0\n",
       "dtype: int64"
      ]
     },
     "execution_count": 8,
     "metadata": {},
     "output_type": "execute_result"
    }
   ],
   "source": [
    "changedtime = test.drop(columns = [\"possessionTime\"])\n",
    "\n",
    "changedtime = changedtime.rename(columns={'newposs':'possessionTime'})\n",
    "\n",
    "changedtime.isna().sum()"
   ]
  },
  {
   "cell_type": "markdown",
   "id": "010d8e98",
   "metadata": {},
   "source": [
    "- We need to convert categorical variables into dummy variables to regress on. We cannot just use label enconder as the model will learn untrue relations in the categorical variables, such as order\n",
    "\n",
    "- Next, we need to standardize our continous variables so that they are on the same scale but we need to remove dummies and target before\n",
    "\n",
    "- Lastly, we need to put the dataframe back together with our dummmies and target"
   ]
  },
  {
   "cell_type": "code",
   "execution_count": 9,
   "id": "e8bdf4bc",
   "metadata": {},
   "outputs": [
    {
     "data": {
      "text/html": [
       "<div>\n",
       "<style scoped>\n",
       "    .dataframe tbody tr th:only-of-type {\n",
       "        vertical-align: middle;\n",
       "    }\n",
       "\n",
       "    .dataframe tbody tr th {\n",
       "        vertical-align: top;\n",
       "    }\n",
       "\n",
       "    .dataframe thead th {\n",
       "        text-align: right;\n",
       "    }\n",
       "</style>\n",
       "<table border=\"1\" class=\"dataframe\">\n",
       "  <thead>\n",
       "    <tr style=\"text-align: right;\">\n",
       "      <th></th>\n",
       "      <th>Points</th>\n",
       "      <th>completionAttempts</th>\n",
       "      <th>firstDowns</th>\n",
       "      <th>fourthDownEff</th>\n",
       "      <th>fumblesLost</th>\n",
       "      <th>fumblesRecovered</th>\n",
       "      <th>interceptionYards</th>\n",
       "      <th>interceptions</th>\n",
       "      <th>kickReturnYards</th>\n",
       "      <th>kickReturns</th>\n",
       "      <th>...</th>\n",
       "      <th>School_Washington State</th>\n",
       "      <th>School_West Virginia</th>\n",
       "      <th>School_Wisconsin</th>\n",
       "      <th>Conference_ACC</th>\n",
       "      <th>Conference_Big 12</th>\n",
       "      <th>Conference_Big Ten</th>\n",
       "      <th>Conference_Pac-12</th>\n",
       "      <th>Conference_SEC</th>\n",
       "      <th>HomeAway_away</th>\n",
       "      <th>HomeAway_home</th>\n",
       "    </tr>\n",
       "  </thead>\n",
       "  <tbody>\n",
       "    <tr>\n",
       "      <th>4201</th>\n",
       "      <td>10</td>\n",
       "      <td>-1.918824</td>\n",
       "      <td>-1.242192</td>\n",
       "      <td>0.239562</td>\n",
       "      <td>-0.751671</td>\n",
       "      <td>0.269075</td>\n",
       "      <td>-0.508622</td>\n",
       "      <td>-0.847175</td>\n",
       "      <td>-0.701833</td>\n",
       "      <td>-0.663051</td>\n",
       "      <td>...</td>\n",
       "      <td>False</td>\n",
       "      <td>False</td>\n",
       "      <td>False</td>\n",
       "      <td>False</td>\n",
       "      <td>False</td>\n",
       "      <td>False</td>\n",
       "      <td>False</td>\n",
       "      <td>True</td>\n",
       "      <td>True</td>\n",
       "      <td>False</td>\n",
       "    </tr>\n",
       "    <tr>\n",
       "      <th>4202</th>\n",
       "      <td>27</td>\n",
       "      <td>-0.118444</td>\n",
       "      <td>-0.902542</td>\n",
       "      <td>-0.973561</td>\n",
       "      <td>0.520062</td>\n",
       "      <td>-0.666238</td>\n",
       "      <td>-0.508622</td>\n",
       "      <td>-0.847175</td>\n",
       "      <td>-0.726359</td>\n",
       "      <td>-0.663051</td>\n",
       "      <td>...</td>\n",
       "      <td>False</td>\n",
       "      <td>False</td>\n",
       "      <td>False</td>\n",
       "      <td>False</td>\n",
       "      <td>False</td>\n",
       "      <td>False</td>\n",
       "      <td>False</td>\n",
       "      <td>True</td>\n",
       "      <td>False</td>\n",
       "      <td>True</td>\n",
       "    </tr>\n",
       "    <tr>\n",
       "      <th>4203</th>\n",
       "      <td>45</td>\n",
       "      <td>0.979514</td>\n",
       "      <td>0.116406</td>\n",
       "      <td>-0.973561</td>\n",
       "      <td>-0.751671</td>\n",
       "      <td>-0.666238</td>\n",
       "      <td>-0.029117</td>\n",
       "      <td>0.241828</td>\n",
       "      <td>0.622619</td>\n",
       "      <td>-0.093328</td>\n",
       "      <td>...</td>\n",
       "      <td>False</td>\n",
       "      <td>False</td>\n",
       "      <td>False</td>\n",
       "      <td>False</td>\n",
       "      <td>False</td>\n",
       "      <td>False</td>\n",
       "      <td>False</td>\n",
       "      <td>True</td>\n",
       "      <td>False</td>\n",
       "      <td>True</td>\n",
       "    </tr>\n",
       "    <tr>\n",
       "      <th>4204</th>\n",
       "      <td>37</td>\n",
       "      <td>0.251276</td>\n",
       "      <td>-0.562893</td>\n",
       "      <td>1.452686</td>\n",
       "      <td>-0.751671</td>\n",
       "      <td>0.269075</td>\n",
       "      <td>1.601200</td>\n",
       "      <td>0.241828</td>\n",
       "      <td>-0.088661</td>\n",
       "      <td>-0.093328</td>\n",
       "      <td>...</td>\n",
       "      <td>False</td>\n",
       "      <td>False</td>\n",
       "      <td>False</td>\n",
       "      <td>False</td>\n",
       "      <td>False</td>\n",
       "      <td>False</td>\n",
       "      <td>False</td>\n",
       "      <td>True</td>\n",
       "      <td>True</td>\n",
       "      <td>False</td>\n",
       "    </tr>\n",
       "    <tr>\n",
       "      <th>4205</th>\n",
       "      <td>28</td>\n",
       "      <td>0.608024</td>\n",
       "      <td>-0.393068</td>\n",
       "      <td>0.239562</td>\n",
       "      <td>-0.751671</td>\n",
       "      <td>-0.666238</td>\n",
       "      <td>0.690140</td>\n",
       "      <td>-0.847175</td>\n",
       "      <td>-0.677306</td>\n",
       "      <td>-0.663051</td>\n",
       "      <td>...</td>\n",
       "      <td>False</td>\n",
       "      <td>False</td>\n",
       "      <td>False</td>\n",
       "      <td>False</td>\n",
       "      <td>False</td>\n",
       "      <td>False</td>\n",
       "      <td>False</td>\n",
       "      <td>True</td>\n",
       "      <td>False</td>\n",
       "      <td>True</td>\n",
       "    </tr>\n",
       "  </tbody>\n",
       "</table>\n",
       "<p>5 rows × 104 columns</p>\n",
       "</div>"
      ],
      "text/plain": [
       "      Points  completionAttempts  firstDowns  fourthDownEff  fumblesLost  \\\n",
       "4201      10           -1.918824   -1.242192       0.239562    -0.751671   \n",
       "4202      27           -0.118444   -0.902542      -0.973561     0.520062   \n",
       "4203      45            0.979514    0.116406      -0.973561    -0.751671   \n",
       "4204      37            0.251276   -0.562893       1.452686    -0.751671   \n",
       "4205      28            0.608024   -0.393068       0.239562    -0.751671   \n",
       "\n",
       "      fumblesRecovered  interceptionYards  interceptions  kickReturnYards  \\\n",
       "4201          0.269075          -0.508622      -0.847175        -0.701833   \n",
       "4202         -0.666238          -0.508622      -0.847175        -0.726359   \n",
       "4203         -0.666238          -0.029117       0.241828         0.622619   \n",
       "4204          0.269075           1.601200       0.241828        -0.088661   \n",
       "4205         -0.666238           0.690140      -0.847175        -0.677306   \n",
       "\n",
       "      kickReturns  ...  School_Washington State  School_West Virginia  \\\n",
       "4201    -0.663051  ...                    False                 False   \n",
       "4202    -0.663051  ...                    False                 False   \n",
       "4203    -0.093328  ...                    False                 False   \n",
       "4204    -0.093328  ...                    False                 False   \n",
       "4205    -0.663051  ...                    False                 False   \n",
       "\n",
       "      School_Wisconsin  Conference_ACC  Conference_Big 12  Conference_Big Ten  \\\n",
       "4201             False           False              False               False   \n",
       "4202             False           False              False               False   \n",
       "4203             False           False              False               False   \n",
       "4204             False           False              False               False   \n",
       "4205             False           False              False               False   \n",
       "\n",
       "      Conference_Pac-12  Conference_SEC  HomeAway_away  HomeAway_home  \n",
       "4201              False            True           True          False  \n",
       "4202              False            True          False           True  \n",
       "4203              False            True          False           True  \n",
       "4204              False            True           True          False  \n",
       "4205              False            True          False           True  \n",
       "\n",
       "[5 rows x 104 columns]"
      ]
     },
     "execution_count": 9,
     "metadata": {},
     "output_type": "execute_result"
    }
   ],
   "source": [
    "# label_encoder = LabelEncoder()\n",
    "\n",
    "# changedtime[['Conference','HomeAway','School']] = changedtime[['Conference','HomeAway','School']].apply(LabelEncoder().fit_transform)\n",
    "\n",
    "changedtime = pd.get_dummies(changedtime)\n",
    "\n",
    "tostandardize = changedtime.iloc[:,1:30]\n",
    "\n",
    "scaler = StandardScaler()\n",
    "\n",
    "standed = scaler.fit_transform(tostandardize)\n",
    "\n",
    "standeddf = pd.DataFrame(standed,columns = tostandardize.columns)\n",
    "\n",
    "# standeddf[['Conference','HomeAway']] = changedtime[['Conference','HomeAway']]\n",
    "\n",
    "#standeddf.head()\n",
    "\n",
    "a = pd.DataFrame(changedtime.iloc[:,0]).reset_index()\n",
    "\n",
    "b = pd.DataFrame(changedtime.iloc[:,31:]).reset_index()\n",
    "\n",
    "# standeddf.iloc[:,:30]\n",
    "\n",
    "standeddf = pd.concat([a,standeddf,b],axis=1).drop(columns=['index'])\n",
    "\n",
    "standeddf.tail()\n",
    "\n"
   ]
  },
  {
   "cell_type": "code",
   "execution_count": 49,
   "id": "9b80e324",
   "metadata": {},
   "outputs": [],
   "source": [
    "#standeddf.dtypes"
   ]
  },
  {
   "cell_type": "markdown",
   "id": "24466d95",
   "metadata": {},
   "source": [
    "- We need to learn which variable is correlated most with the dependent target variable. This will give us a basis regression model that we can hope to improve. "
   ]
  },
  {
   "cell_type": "code",
   "execution_count": 10,
   "id": "c0d0cf3a",
   "metadata": {},
   "outputs": [
    {
     "data": {
      "text/plain": [
       "Points                 1.000000\n",
       "totalYards             0.805261\n",
       "firstDowns             0.659476\n",
       "yardsPerPass           0.615613\n",
       "rushingYards           0.573853\n",
       "thirdDownEff           0.535238\n",
       "yardsPerRushAttempt    0.502340\n",
       "completionAttempts     0.486753\n",
       "netPassingYards        0.481616\n",
       "rushingAttempts        0.313701\n",
       "Name: Points, dtype: float64"
      ]
     },
     "execution_count": 10,
     "metadata": {},
     "output_type": "execute_result"
    }
   ],
   "source": [
    "mat = standeddf.corr(method='pearson')\n",
    "\n",
    "\n",
    "uppcor = mat.where(np.triu(np.ones(mat.shape), k=1).astype(bool))\n",
    "\n",
    "uniq = uppcor.unstack().dropna()\n",
    "\n",
    "sormat = uniq.sort_values(ascending =False)\n",
    "\n",
    "sormat.shape\n",
    "\n",
    "abs(mat['Points']).sort_values(ascending=False).nlargest(10)"
   ]
  },
  {
   "cell_type": "markdown",
   "id": "e2ad8eda",
   "metadata": {},
   "source": [
    "- We need to check our variables for multicollinearity. We will do this by using the variance inflation factor\n",
    "\n",
    "- Here we will just check and we see that there is indeed high multicollinearity\n",
    "\n",
    "- We will deal with these two cells down"
   ]
  },
  {
   "cell_type": "code",
   "execution_count": 11,
   "id": "a3926203",
   "metadata": {},
   "outputs": [
    {
     "data": {
      "text/plain": [
       "turnovers              6.357453e+14\n",
       "totalYards             3.825362e+14\n",
       "interceptions          3.628866e+14\n",
       "fumblesLost            2.660953e+14\n",
       "netPassingYards        2.430278e+14\n",
       "rushingYards           2.062658e+14\n",
       "firstDowns             5.556343e+00\n",
       "penaltyYards           5.275377e+00\n",
       "totalPenalties         5.248448e+00\n",
       "rushingAttempts        4.600784e+00\n",
       "yardsPerRushAttempt    4.185710e+00\n",
       "kickReturns            3.931843e+00\n",
       "kickReturnYards        3.773168e+00\n",
       "yardsPerPass           3.062549e+00\n",
       "completionAttempts     2.039292e+00\n",
       "puntReturns            1.803568e+00\n",
       "possessionTime         1.794876e+00\n",
       "thirdDownEff           1.769024e+00\n",
       "tacklesForLoss         1.750881e+00\n",
       "totalFumbles           1.696876e+00\n",
       "sacks                  1.691076e+00\n",
       "puntReturnYards        1.642448e+00\n",
       "passesIntercepted      1.584446e+00\n",
       "interceptionYards      1.526289e+00\n",
       "tackles                1.261175e+00\n",
       "passesDeflected        1.138154e+00\n",
       "qbHurries              1.108739e+00\n",
       "fourthDownEff          1.081038e+00\n",
       "fumblesRecovered       1.061936e+00\n",
       "Name: VIF, dtype: float64"
      ]
     },
     "execution_count": 11,
     "metadata": {},
     "output_type": "execute_result"
    }
   ],
   "source": [
    "pd.set_option('display.max_rows',None)\n",
    "\n",
    "takeouty = standeddf.iloc[:,1:30]\n",
    "\n",
    "vifs = pd.Series(np.linalg.inv(takeouty.corr().to_numpy()).diagonal(),\n",
    "                index=takeouty.columns,name=\"VIF\")\n",
    "\n",
    "abs(vifs).sort_values(ascending=False)"
   ]
  },
  {
   "cell_type": "markdown",
   "id": "36fb9110",
   "metadata": {},
   "source": [
    "- This is just validation of the vif using an intercept, the intercept has no impact on the vif scores\n",
    "\n",
    "- The warning is fine, division was by extremely small number which creates the inf you see in the table"
   ]
  },
  {
   "cell_type": "code",
   "execution_count": 12,
   "id": "8ccda5c4",
   "metadata": {},
   "outputs": [
    {
     "name": "stderr",
     "output_type": "stream",
     "text": [
      "/Users/michaelguel/anaconda3/lib/python3.11/site-packages/statsmodels/stats/outliers_influence.py:198: RuntimeWarning: divide by zero encountered in scalar divide\n",
      "  vif = 1. / (1. - r_squared_i)\n"
     ]
    },
    {
     "data": {
      "text/html": [
       "<div>\n",
       "<style scoped>\n",
       "    .dataframe tbody tr th:only-of-type {\n",
       "        vertical-align: middle;\n",
       "    }\n",
       "\n",
       "    .dataframe tbody tr th {\n",
       "        vertical-align: top;\n",
       "    }\n",
       "\n",
       "    .dataframe thead th {\n",
       "        text-align: right;\n",
       "    }\n",
       "</style>\n",
       "<table border=\"1\" class=\"dataframe\">\n",
       "  <thead>\n",
       "    <tr style=\"text-align: right;\">\n",
       "      <th></th>\n",
       "      <th>VIF</th>\n",
       "      <th>features</th>\n",
       "    </tr>\n",
       "  </thead>\n",
       "  <tbody>\n",
       "    <tr>\n",
       "      <th>4</th>\n",
       "      <td>inf</td>\n",
       "      <td>fumblesLost</td>\n",
       "    </tr>\n",
       "    <tr>\n",
       "      <th>24</th>\n",
       "      <td>inf</td>\n",
       "      <td>turnovers</td>\n",
       "    </tr>\n",
       "    <tr>\n",
       "      <th>7</th>\n",
       "      <td>inf</td>\n",
       "      <td>interceptions</td>\n",
       "    </tr>\n",
       "    <tr>\n",
       "      <th>17</th>\n",
       "      <td>1.996149e+06</td>\n",
       "      <td>rushingYards</td>\n",
       "    </tr>\n",
       "    <tr>\n",
       "      <th>23</th>\n",
       "      <td>1.157712e+06</td>\n",
       "      <td>totalYards</td>\n",
       "    </tr>\n",
       "    <tr>\n",
       "      <th>10</th>\n",
       "      <td>4.569901e+05</td>\n",
       "      <td>netPassingYards</td>\n",
       "    </tr>\n",
       "    <tr>\n",
       "      <th>2</th>\n",
       "      <td>5.556343e+00</td>\n",
       "      <td>firstDowns</td>\n",
       "    </tr>\n",
       "    <tr>\n",
       "      <th>28</th>\n",
       "      <td>5.273314e+00</td>\n",
       "      <td>penaltyYards</td>\n",
       "    </tr>\n",
       "    <tr>\n",
       "      <th>27</th>\n",
       "      <td>5.246508e+00</td>\n",
       "      <td>totalPenalties</td>\n",
       "    </tr>\n",
       "    <tr>\n",
       "      <th>16</th>\n",
       "      <td>4.579806e+00</td>\n",
       "      <td>rushingAttempts</td>\n",
       "    </tr>\n",
       "    <tr>\n",
       "      <th>26</th>\n",
       "      <td>4.185002e+00</td>\n",
       "      <td>yardsPerRushAttempt</td>\n",
       "    </tr>\n",
       "    <tr>\n",
       "      <th>9</th>\n",
       "      <td>3.929679e+00</td>\n",
       "      <td>kickReturns</td>\n",
       "    </tr>\n",
       "    <tr>\n",
       "      <th>8</th>\n",
       "      <td>3.770672e+00</td>\n",
       "      <td>kickReturnYards</td>\n",
       "    </tr>\n",
       "    <tr>\n",
       "      <th>25</th>\n",
       "      <td>3.060587e+00</td>\n",
       "      <td>yardsPerPass</td>\n",
       "    </tr>\n",
       "    <tr>\n",
       "      <th>1</th>\n",
       "      <td>2.038827e+00</td>\n",
       "      <td>completionAttempts</td>\n",
       "    </tr>\n",
       "    <tr>\n",
       "      <th>14</th>\n",
       "      <td>1.803432e+00</td>\n",
       "      <td>puntReturns</td>\n",
       "    </tr>\n",
       "    <tr>\n",
       "      <th>29</th>\n",
       "      <td>1.794554e+00</td>\n",
       "      <td>possessionTime</td>\n",
       "    </tr>\n",
       "    <tr>\n",
       "      <th>21</th>\n",
       "      <td>1.768989e+00</td>\n",
       "      <td>thirdDownEff</td>\n",
       "    </tr>\n",
       "    <tr>\n",
       "      <th>20</th>\n",
       "      <td>1.750668e+00</td>\n",
       "      <td>tacklesForLoss</td>\n",
       "    </tr>\n",
       "    <tr>\n",
       "      <th>22</th>\n",
       "      <td>1.696801e+00</td>\n",
       "      <td>totalFumbles</td>\n",
       "    </tr>\n",
       "    <tr>\n",
       "      <th>18</th>\n",
       "      <td>1.689745e+00</td>\n",
       "      <td>sacks</td>\n",
       "    </tr>\n",
       "    <tr>\n",
       "      <th>13</th>\n",
       "      <td>1.642440e+00</td>\n",
       "      <td>puntReturnYards</td>\n",
       "    </tr>\n",
       "    <tr>\n",
       "      <th>12</th>\n",
       "      <td>1.584334e+00</td>\n",
       "      <td>passesIntercepted</td>\n",
       "    </tr>\n",
       "    <tr>\n",
       "      <th>6</th>\n",
       "      <td>1.526289e+00</td>\n",
       "      <td>interceptionYards</td>\n",
       "    </tr>\n",
       "    <tr>\n",
       "      <th>19</th>\n",
       "      <td>1.261035e+00</td>\n",
       "      <td>tackles</td>\n",
       "    </tr>\n",
       "    <tr>\n",
       "      <th>11</th>\n",
       "      <td>1.138150e+00</td>\n",
       "      <td>passesDeflected</td>\n",
       "    </tr>\n",
       "    <tr>\n",
       "      <th>15</th>\n",
       "      <td>1.108426e+00</td>\n",
       "      <td>qbHurries</td>\n",
       "    </tr>\n",
       "    <tr>\n",
       "      <th>3</th>\n",
       "      <td>1.081038e+00</td>\n",
       "      <td>fourthDownEff</td>\n",
       "    </tr>\n",
       "    <tr>\n",
       "      <th>5</th>\n",
       "      <td>1.061936e+00</td>\n",
       "      <td>fumblesRecovered</td>\n",
       "    </tr>\n",
       "    <tr>\n",
       "      <th>0</th>\n",
       "      <td>1.000000e+00</td>\n",
       "      <td>Intercept</td>\n",
       "    </tr>\n",
       "  </tbody>\n",
       "</table>\n",
       "</div>"
      ],
      "text/plain": [
       "             VIF             features\n",
       "4            inf          fumblesLost\n",
       "24           inf            turnovers\n",
       "7            inf        interceptions\n",
       "17  1.996149e+06         rushingYards\n",
       "23  1.157712e+06           totalYards\n",
       "10  4.569901e+05      netPassingYards\n",
       "2   5.556343e+00           firstDowns\n",
       "28  5.273314e+00         penaltyYards\n",
       "27  5.246508e+00       totalPenalties\n",
       "16  4.579806e+00      rushingAttempts\n",
       "26  4.185002e+00  yardsPerRushAttempt\n",
       "9   3.929679e+00          kickReturns\n",
       "8   3.770672e+00      kickReturnYards\n",
       "25  3.060587e+00         yardsPerPass\n",
       "1   2.038827e+00   completionAttempts\n",
       "14  1.803432e+00          puntReturns\n",
       "29  1.794554e+00       possessionTime\n",
       "21  1.768989e+00         thirdDownEff\n",
       "20  1.750668e+00       tacklesForLoss\n",
       "22  1.696801e+00         totalFumbles\n",
       "18  1.689745e+00                sacks\n",
       "13  1.642440e+00      puntReturnYards\n",
       "12  1.584334e+00    passesIntercepted\n",
       "6   1.526289e+00    interceptionYards\n",
       "19  1.261035e+00              tackles\n",
       "11  1.138150e+00      passesDeflected\n",
       "15  1.108426e+00            qbHurries\n",
       "3   1.081038e+00        fourthDownEff\n",
       "5   1.061936e+00     fumblesRecovered\n",
       "0   1.000000e+00            Intercept"
      ]
     },
     "execution_count": 12,
     "metadata": {},
     "output_type": "execute_result"
    }
   ],
   "source": [
    "from patsy import dmatrices\n",
    "\n",
    "yout = standeddf.iloc[:,1:30]\n",
    "\n",
    "features = '+'.join(yout.columns)\n",
    "\n",
    "y,X = dmatrices(\"Points ~\" + features ,standeddf,return_type='dataframe')\n",
    "\n",
    "vif = pd.DataFrame()\n",
    "vif['VIF'] = [variance_inflation_factor(X.values,i)for i in range(X.shape[1])]\n",
    "vif['features'] = X.columns\n",
    "vif.sort_values(by='VIF',ascending=False)"
   ]
  },
  {
   "cell_type": "markdown",
   "id": "695b888e",
   "metadata": {},
   "source": [
    "- We are now going to iteratively remove high vif variables\n",
    "\n",
    "- We will start with the greatest vif, remove and continue to the next highest vif\n",
    "\n",
    "- This will continue until we reach a set of variables that all vif are < 2.5"
   ]
  },
  {
   "cell_type": "code",
   "execution_count": 18,
   "id": "03420a30",
   "metadata": {},
   "outputs": [
    {
     "data": {
      "text/plain": [
       "totalYards             9.767179\n",
       "rushingYards           9.617821\n",
       "firstDowns             5.556343\n",
       "penaltyYards           5.275377\n",
       "totalPenalties         5.248448\n",
       "rushingAttempts        4.600784\n",
       "yardsPerRushAttempt    4.185710\n",
       "kickReturns            3.931843\n",
       "kickReturnYards        3.773168\n",
       "yardsPerPass           3.062549\n",
       "completionAttempts     2.039292\n",
       "puntReturns            1.803568\n",
       "possessionTime         1.794876\n",
       "thirdDownEff           1.769024\n",
       "tacklesForLoss         1.750881\n",
       "totalFumbles           1.696876\n",
       "sacks                  1.691076\n",
       "puntReturnYards        1.642448\n",
       "fumblesLost            1.587367\n",
       "passesIntercepted      1.584446\n",
       "interceptionYards      1.526289\n",
       "tackles                1.261175\n",
       "interceptions          1.145940\n",
       "passesDeflected        1.138154\n",
       "qbHurries              1.108739\n",
       "fourthDownEff          1.081038\n",
       "fumblesRecovered       1.061936\n",
       "Name: VIF, dtype: float64"
      ]
     },
     "execution_count": 18,
     "metadata": {},
     "output_type": "execute_result"
    }
   ],
   "source": [
    "col = ['turnovers','netPassingYards']\n",
    "\n",
    "tryagain = takeouty[takeouty.columns[~takeouty.columns.isin(col)]]\n",
    "\n",
    "vifs = pd.Series(np.linalg.inv(tryagain.corr().to_numpy()).diagonal(),\n",
    "                index=tryagain.columns,name=\"VIF\")\n",
    "\n",
    "abs(vifs).sort_values(ascending=False)\n",
    "\n"
   ]
  },
  {
   "cell_type": "markdown",
   "id": "55af25a0",
   "metadata": {},
   "source": [
    "- We will use the remaining variables after vif to construct a new dataframe that has little multicollinearity\n",
    "\n",
    "- Assign both revised dataframe and original to new names to be used in the models"
   ]
  },
  {
   "cell_type": "code",
   "execution_count": 19,
   "id": "08a00025",
   "metadata": {},
   "outputs": [],
   "source": [
    "vifx = pd.concat([tryagain,b],axis=1)\n",
    "\n",
    "full = standeddf.iloc[:,1:]\n",
    "\n",
    "y = pd.DataFrame(standeddf.iloc[:,0])"
   ]
  },
  {
   "cell_type": "code",
   "execution_count": 20,
   "id": "d4db0385",
   "metadata": {},
   "outputs": [],
   "source": [
    "X = vifx\n",
    "\n",
    "Y = y\n",
    "\n",
    "start_state = 24\n",
    "\n",
    "test_fraction = 0.2\n",
    "\n",
    "X_train, X_test, y_train, y_test = train_test_split(X,Y,test_size = test_fraction,random_state=start_state)"
   ]
  },
  {
   "cell_type": "code",
   "execution_count": null,
   "id": "7f8e333e",
   "metadata": {},
   "outputs": [],
   "source": []
  },
  {
   "cell_type": "code",
   "execution_count": 21,
   "id": "b7ffa4c4",
   "metadata": {},
   "outputs": [
    {
     "name": "stdout",
     "output_type": "stream",
     "text": [
      "0.6251350832353408\n",
      "[0.62401127 0.65513867 0.63729175 0.6399628  0.66778388]\n"
     ]
    }
   ],
   "source": [
    "basis = LinearRegression()\n",
    "\n",
    "basismodel = basis.fit(X_train[['totalYards']],y_train)\n",
    "\n",
    "print(basismodel.score(X_test[['totalYards']],y_test))\n",
    "\n",
    "print(cross_val_score(basis,X[['totalYards']],Y,cv=5))"
   ]
  },
  {
   "cell_type": "code",
   "execution_count": 22,
   "id": "3366bf37",
   "metadata": {},
   "outputs": [
    {
     "name": "stdout",
     "output_type": "stream",
     "text": [
      "0.7973932690375505\n",
      "6.64712881878785\n",
      "0.7973932690375505\n"
     ]
    }
   ],
   "source": [
    "estimator1 = LinearRegression()\n",
    "\n",
    "model1 = estimator1.fit(X_train,y_train)\n",
    "\n",
    "print(model1.score(X_test,y_test))\n",
    "\n",
    "#print(cross_val_score(estimator1,X,Y,cv=5))\n",
    "\n",
    "y_pred_test_model1 = model1.predict(X_test)\n",
    "\n",
    "print(np.sqrt(mean_squared_error(y_test,y_pred_test_model1)))\n",
    "\n",
    "print(r2_score(y_test,y_pred_test_model1))"
   ]
  },
  {
   "cell_type": "code",
   "execution_count": 23,
   "id": "34f24900",
   "metadata": {},
   "outputs": [
    {
     "name": "stdout",
     "output_type": "stream",
     "text": [
      "0.45830232338487564\n",
      "[0.36938626 0.43823251 0.53913207 0.44504156 0.50250248]\n"
     ]
    }
   ],
   "source": [
    "estimator2 = DecisionTreeRegressor()\n",
    "\n",
    "model2 = estimator2.fit(X_train,y_train)\n",
    "\n",
    "print(model2.score(X_test,y_test))\n",
    "\n",
    "print(cross_val_score(estimator2,X,Y,cv=5))"
   ]
  },
  {
   "cell_type": "code",
   "execution_count": 24,
   "id": "13fe718d",
   "metadata": {},
   "outputs": [
    {
     "name": "stdout",
     "output_type": "stream",
     "text": [
      "0.7574619482971283\n"
     ]
    }
   ],
   "source": [
    "estimator3 = RandomForestRegressor(n_estimators=100)\n",
    "\n",
    "model3 = estimator3.fit(X_train,np.ravel(y_train))\n",
    "\n",
    "print(model3.score(X_test,y_test))\n",
    "\n",
    "#print(cross_val_score(estimator3,X,np.ravel(Y),cv=5))"
   ]
  },
  {
   "cell_type": "code",
   "execution_count": 25,
   "id": "574a78d4",
   "metadata": {},
   "outputs": [
    {
     "name": "stdout",
     "output_type": "stream",
     "text": [
      "0.7570895233145251\n"
     ]
    }
   ],
   "source": [
    "estimator4 = xgb.XGBRegressor(objective='reg:squarederror')\n",
    "\n",
    "model4 = estimator4.fit(X_train,y_train)\n",
    "\n",
    "print(model4.score(X_test,y_test))\n",
    "\n",
    "#print(cross_val_score(estimator4,X,Y,cv=5))"
   ]
  },
  {
   "cell_type": "code",
   "execution_count": 26,
   "id": "b8f8c4d5",
   "metadata": {},
   "outputs": [
    {
     "name": "stdout",
     "output_type": "stream",
     "text": [
      "0.7844327073398449\n"
     ]
    }
   ],
   "source": [
    "estimator5 = MLPRegressor()\n",
    "\n",
    "model5 = estimator5.fit(X_train,np.ravel(y_train))\n",
    "\n",
    "print(model5.score(X_test,np.ravel(y_test)))\n",
    "\n",
    "#print(cross_val_score(estimator5,X,np.ravel(Y),cv=5))"
   ]
  },
  {
   "cell_type": "code",
   "execution_count": 29,
   "id": "9277b465",
   "metadata": {},
   "outputs": [
    {
     "name": "stdout",
     "output_type": "stream",
     "text": [
      "0.7972328494961041\n"
     ]
    }
   ],
   "source": [
    "params = {\"alpha\":[0.01,0.02,0.05,0.1,0.3,0.5,1.0,1.2,1.4],\"kernel\":['linear','laplacian','rbf']}\n",
    "\n",
    "estimator6 = GridSearchCV(KernelRidge(),cv=5,param_grid=params)\n",
    "\n",
    "tempmodel = estimator6.fit(X_train,y_train)\n",
    "\n",
    "model6 = tempmodel.best_estimator_\n",
    "\n",
    "print(model6.score(X_test,y_test))\n",
    "\n"
   ]
  },
  {
   "cell_type": "code",
   "execution_count": 30,
   "id": "f407b7f4",
   "metadata": {},
   "outputs": [
    {
     "name": "stdout",
     "output_type": "stream",
     "text": [
      "0.7789063109009836\n"
     ]
    }
   ],
   "source": [
    "estimator7 = SVR(kernel='linear',gamma='scale')\n",
    "\n",
    "model7 = estimator7.fit(X_train,np.ravel(y_train))\n",
    "\n",
    "print(model7.score(X_test,np.ravel(y_test)))"
   ]
  },
  {
   "cell_type": "code",
   "execution_count": 28,
   "id": "aefbfdec",
   "metadata": {},
   "outputs": [
    {
     "name": "stdout",
     "output_type": "stream",
     "text": [
      "0.7920744413846215\n"
     ]
    }
   ],
   "source": [
    "estimator8 = make_pipeline(StandardScaler(),\n",
    "                           SGDRegressor(max_iter=1000,tol=1e-3))\n",
    "model8 = estimator8.fit(X_train,np.ravel(y_train))\n",
    "\n",
    "print(model8.score(X_test,np.ravel(y_test)))"
   ]
  },
  {
   "cell_type": "code",
   "execution_count": 95,
   "id": "18c09ae9",
   "metadata": {},
   "outputs": [
    {
     "data": {
      "text/plain": [
       "[<matplotlib.lines.Line2D at 0x1682f1110>]"
      ]
     },
     "execution_count": 95,
     "metadata": {},
     "output_type": "execute_result"
    },
    {
     "data": {
      "image/png": "[encoded data removed]",
      "text/plain": [
       "<Figure size 640x480 with 1 Axes>"
      ]
     },
     "metadata": {},
     "output_type": "display_data"
    }
   ],
   "source": [
    "pca = PCA()\n",
    "\n",
    "X_train_pc = pca.fit_transform(X_train)\n",
    "\n",
    "#print(pca.explained_variance_ratio_)\n",
    "\n",
    "rmse_list = []\n",
    "\n",
    "for i in range(1, X_train_pc.shape[1]+1):\n",
    "    rmse_score = -1 * cross_val_score(estimator7,X_train_pc[:,:i],\n",
    "                                     np.ravel(y_train),\n",
    "                                     scoring = 'neg_root_mean_squared_error').mean()\n",
    "    rmse_list.append(rmse_score)\n",
    "\n",
    "plt.plot(rmse_list,'-o')"
   ]
  },
  {
   "cell_type": "code",
   "execution_count": 96,
   "id": "bbb35124",
   "metadata": {},
   "outputs": [
    {
     "name": "stdout",
     "output_type": "stream",
     "text": [
      "0.7740222206549452\n"
     ]
    }
   ],
   "source": [
    "pcnum = 30\n",
    "\n",
    "model6 = estimator7.fit(X_train_pc[:,:pcnum],np.ravel(y_train))\n",
    "\n",
    "X_test_pc = pca.transform(X_test)[:,:pcnum]\n",
    "\n",
    "print(model6.score(X_test_pc,np.ravel(y_test)))\n",
    "\n",
    "#X_cross_pc = pca.transform(X)\n",
    "\n",
    "#print(cross_val_score(estimator1,X_cross_pc,Y,cv=5))"
   ]
  }
 ],
 "metadata": {
  "kernelspec": {
   "display_name": "Python 3 (ipykernel)",
   "language": "python",
   "name": "python3"
  },
  "language_info": {
   "codemirror_mode": {
    "name": "ipython",
    "version": 3
   },
   "file_extension": ".py",
   "mimetype": "text/x-python",
   "name": "python",
   "nbconvert_exporter": "python",
   "pygments_lexer": "ipython3",
   "version": "3.11.5"
  }
 },
 "nbformat": 4,
 "nbformat_minor": 5
}
