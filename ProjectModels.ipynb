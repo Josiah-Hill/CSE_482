{
 "cells": [
  {
   "cell_type": "code",
   "execution_count": 1,
   "id": "9dc926c9",
   "metadata": {},
   "outputs": [],
   "source": [
    "# Transformations for modeling"
   ]
  },
  {
   "cell_type": "code",
   "execution_count": 61,
   "id": "5712155e",
   "metadata": {},
   "outputs": [],
   "source": [
    "import numpy as np\n",
    "import pandas as pd\n",
    "import seaborn as sns\n",
    "import matplotlib.pyplot as plt\n",
    "import xgboost as xgb\n",
    "from sklearn.preprocessing import StandardScaler\n",
    "from statsmodels.stats.outliers_influence import variance_inflation_factor\n",
    "from statsmodels.tools.tools import add_constant\n",
    "from sklearn.linear_model import LinearRegression\n",
    "from sklearn.preprocessing import LabelEncoder, OneHotEncoder\n",
    "from sklearn.model_selection import train_test_split, KFold\n",
    "from sklearn.metrics import mean_squared_error, r2_score\n",
    "from sklearn.model_selection import cross_val_score\n",
    "from sklearn.tree import DecisionTreeRegressor\n",
    "from sklearn.ensemble import RandomForestRegressor\n",
    "from sklearn.decomposition import PCA"
   ]
  },
  {
   "cell_type": "code",
   "execution_count": 41,
   "id": "fc84ca7c",
   "metadata": {},
   "outputs": [],
   "source": [
    "touse = pd.read_csv(\"gamedata.csv\")\n",
    "\n",
    "#touse.isnull().sum()\n"
   ]
  },
  {
   "cell_type": "markdown",
   "id": "f6649ac8",
   "metadata": {},
   "source": [
    "- We need to dropna in possession time, there are only 7 accounts of this but no explanation as to why a team would not have zerp possession time alongside stats. Then we will fill all other na values with 0 as we have determined that null values are equivalent to 0."
   ]
  },
  {
   "cell_type": "code",
   "execution_count": 190,
   "id": "9e7c99b0",
   "metadata": {},
   "outputs": [],
   "source": [
    "# touse['possessionTime'] = touse['possessionTime'].fillna('00:00')\n",
    "\n",
    "touse = touse.dropna(subset=['possessionTime'])\n",
    "\n",
    "cleaned = touse.fillna(0)\n",
    "\n",
    "#cleaned.isnull().sum()"
   ]
  },
  {
   "cell_type": "markdown",
   "id": "ea398ca2",
   "metadata": {},
   "source": [
    "- We need to drop the 'Game Id' column"
   ]
  },
  {
   "cell_type": "code",
   "execution_count": 191,
   "id": "963acc20",
   "metadata": {},
   "outputs": [],
   "source": [
    "dropped = cleaned.drop(columns = [\"Game Id\"])\n",
    "\n",
    "#dropped\n"
   ]
  },
  {
   "cell_type": "markdown",
   "id": "b18c2c7c",
   "metadata": {},
   "source": [
    "- Assign dataframe to new name"
   ]
  },
  {
   "cell_type": "code",
   "execution_count": 192,
   "id": "566f02a0",
   "metadata": {},
   "outputs": [],
   "source": [
    "test = dropped\n",
    "\n",
    "# print(test['possessionTime'].to_string())"
   ]
  },
  {
   "cell_type": "markdown",
   "id": "4b702f64",
   "metadata": {},
   "source": [
    "- We need to create a function to get possession time into seconds from a string."
   ]
  },
  {
   "cell_type": "code",
   "execution_count": 193,
   "id": "ce7ca146",
   "metadata": {},
   "outputs": [],
   "source": [
    "# change possession time to seconds\n",
    "\n",
    "def get_seconds(time_str):\n",
    "    w = np.array([time_str.split(':')])\n",
    "    mm,ss = w[:,0],w[:,1]\n",
    "    return int(mm) * 60 + int(ss)\n",
    "\n"
   ]
  },
  {
   "cell_type": "markdown",
   "id": "1d7992c1",
   "metadata": {},
   "source": [
    "- We need to apply function rowwise and save to new column"
   ]
  },
  {
   "cell_type": "code",
   "execution_count": 194,
   "id": "f582910b",
   "metadata": {},
   "outputs": [],
   "source": [
    "test['newposs'] = test.loc[:,'possessionTime'].apply(lambda row: get_seconds(str(row)))\n",
    "\n",
    "\n",
    "#test[['possessionTime','newposs']]"
   ]
  },
  {
   "cell_type": "markdown",
   "id": "4aff2647",
   "metadata": {},
   "source": [
    "- We need to drop old column for possessiontime and rename new one as same"
   ]
  },
  {
   "cell_type": "code",
   "execution_count": 196,
   "id": "ea25bf5c",
   "metadata": {},
   "outputs": [],
   "source": [
    "changedtime = test.drop(columns = [\"possessionTime\"])\n",
    "\n",
    "changedtime = changedtime.rename(columns={'newposs':'possessionTime'})\n",
    "\n",
    "#changedtime.head()"
   ]
  },
  {
   "cell_type": "markdown",
   "id": "09c65a5b",
   "metadata": {},
   "source": [
    "- We need to convert categorical variables into dummy variables to regress on. We cannot just use label enconder as the model will learn untrue relations in the categorical variables, such as order\n",
    "\n",
    "- Next, we need to standardize our continous variables so that they are on the same scale but we need to remove dummies and target before\n",
    "\n",
    "- Lastly, we need to put the dataframe back together with our dummmies and target"
   ]
  },
  {
   "cell_type": "code",
   "execution_count": 197,
   "id": "e8bdf4bc",
   "metadata": {},
   "outputs": [
    {
     "data": {
      "text/html": [
       "<div>\n",
       "<style scoped>\n",
       "    .dataframe tbody tr th:only-of-type {\n",
       "        vertical-align: middle;\n",
       "    }\n",
       "\n",
       "    .dataframe tbody tr th {\n",
       "        vertical-align: top;\n",
       "    }\n",
       "\n",
       "    .dataframe thead th {\n",
       "        text-align: right;\n",
       "    }\n",
       "</style>\n",
       "<table border=\"1\" class=\"dataframe\">\n",
       "  <thead>\n",
       "    <tr style=\"text-align: right;\">\n",
       "      <th></th>\n",
       "      <th>Points</th>\n",
       "      <th>completionAttempts</th>\n",
       "      <th>firstDowns</th>\n",
       "      <th>fourthDownEff</th>\n",
       "      <th>fumblesLost</th>\n",
       "      <th>fumblesRecovered</th>\n",
       "      <th>interceptionYards</th>\n",
       "      <th>interceptions</th>\n",
       "      <th>kickReturnYards</th>\n",
       "      <th>kickReturns</th>\n",
       "      <th>...</th>\n",
       "      <th>School_Washington State</th>\n",
       "      <th>School_West Virginia</th>\n",
       "      <th>School_Wisconsin</th>\n",
       "      <th>Conference_ACC</th>\n",
       "      <th>Conference_Big 12</th>\n",
       "      <th>Conference_Big Ten</th>\n",
       "      <th>Conference_Pac-12</th>\n",
       "      <th>Conference_SEC</th>\n",
       "      <th>HomeAway_away</th>\n",
       "      <th>HomeAway_home</th>\n",
       "    </tr>\n",
       "  </thead>\n",
       "  <tbody>\n",
       "    <tr>\n",
       "      <th>0</th>\n",
       "      <td>50</td>\n",
       "      <td>0.843324</td>\n",
       "      <td>2.138957</td>\n",
       "      <td>1.454368</td>\n",
       "      <td>1.792974</td>\n",
       "      <td>0.269676</td>\n",
       "      <td>-0.508726</td>\n",
       "      <td>-0.847351</td>\n",
       "      <td>0.278951</td>\n",
       "      <td>-0.093289</td>\n",
       "      <td>...</td>\n",
       "      <td>False</td>\n",
       "      <td>False</td>\n",
       "      <td>False</td>\n",
       "      <td>True</td>\n",
       "      <td>False</td>\n",
       "      <td>False</td>\n",
       "      <td>False</td>\n",
       "      <td>False</td>\n",
       "      <td>False</td>\n",
       "      <td>True</td>\n",
       "    </tr>\n",
       "    <tr>\n",
       "      <th>1</th>\n",
       "      <td>41</td>\n",
       "      <td>-0.282079</td>\n",
       "      <td>1.130084</td>\n",
       "      <td>-0.971987</td>\n",
       "      <td>-0.751678</td>\n",
       "      <td>0.269676</td>\n",
       "      <td>0.642740</td>\n",
       "      <td>-0.847351</td>\n",
       "      <td>0.499631</td>\n",
       "      <td>0.476317</td>\n",
       "      <td>...</td>\n",
       "      <td>False</td>\n",
       "      <td>False</td>\n",
       "      <td>False</td>\n",
       "      <td>True</td>\n",
       "      <td>False</td>\n",
       "      <td>False</td>\n",
       "      <td>False</td>\n",
       "      <td>False</td>\n",
       "      <td>False</td>\n",
       "      <td>True</td>\n",
       "    </tr>\n",
       "    <tr>\n",
       "      <th>2</th>\n",
       "      <td>28</td>\n",
       "      <td>0.815767</td>\n",
       "      <td>0.457501</td>\n",
       "      <td>1.454368</td>\n",
       "      <td>0.520648</td>\n",
       "      <td>-0.666193</td>\n",
       "      <td>-0.508726</td>\n",
       "      <td>-0.847351</td>\n",
       "      <td>0.646751</td>\n",
       "      <td>0.476317</td>\n",
       "      <td>...</td>\n",
       "      <td>False</td>\n",
       "      <td>False</td>\n",
       "      <td>False</td>\n",
       "      <td>True</td>\n",
       "      <td>False</td>\n",
       "      <td>False</td>\n",
       "      <td>False</td>\n",
       "      <td>False</td>\n",
       "      <td>False</td>\n",
       "      <td>True</td>\n",
       "    </tr>\n",
       "    <tr>\n",
       "      <th>3</th>\n",
       "      <td>28</td>\n",
       "      <td>0.529171</td>\n",
       "      <td>-0.383227</td>\n",
       "      <td>0.241191</td>\n",
       "      <td>-0.751678</td>\n",
       "      <td>-0.666193</td>\n",
       "      <td>-0.364793</td>\n",
       "      <td>-0.847351</td>\n",
       "      <td>1.137150</td>\n",
       "      <td>0.476317</td>\n",
       "      <td>...</td>\n",
       "      <td>False</td>\n",
       "      <td>False</td>\n",
       "      <td>False</td>\n",
       "      <td>True</td>\n",
       "      <td>False</td>\n",
       "      <td>False</td>\n",
       "      <td>False</td>\n",
       "      <td>False</td>\n",
       "      <td>False</td>\n",
       "      <td>True</td>\n",
       "    </tr>\n",
       "    <tr>\n",
       "      <th>4</th>\n",
       "      <td>60</td>\n",
       "      <td>1.300450</td>\n",
       "      <td>1.466375</td>\n",
       "      <td>0.847779</td>\n",
       "      <td>-0.751678</td>\n",
       "      <td>-0.666193</td>\n",
       "      <td>0.834651</td>\n",
       "      <td>-0.847351</td>\n",
       "      <td>1.137150</td>\n",
       "      <td>0.476317</td>\n",
       "      <td>...</td>\n",
       "      <td>False</td>\n",
       "      <td>False</td>\n",
       "      <td>False</td>\n",
       "      <td>True</td>\n",
       "      <td>False</td>\n",
       "      <td>False</td>\n",
       "      <td>False</td>\n",
       "      <td>False</td>\n",
       "      <td>False</td>\n",
       "      <td>True</td>\n",
       "    </tr>\n",
       "  </tbody>\n",
       "</table>\n",
       "<p>5 rows × 104 columns</p>\n",
       "</div>"
      ],
      "text/plain": [
       "   Points  completionAttempts  firstDowns  fourthDownEff  fumblesLost  \\\n",
       "0      50            0.843324    2.138957       1.454368     1.792974   \n",
       "1      41           -0.282079    1.130084      -0.971987    -0.751678   \n",
       "2      28            0.815767    0.457501       1.454368     0.520648   \n",
       "3      28            0.529171   -0.383227       0.241191    -0.751678   \n",
       "4      60            1.300450    1.466375       0.847779    -0.751678   \n",
       "\n",
       "   fumblesRecovered  interceptionYards  interceptions  kickReturnYards  \\\n",
       "0          0.269676          -0.508726      -0.847351         0.278951   \n",
       "1          0.269676           0.642740      -0.847351         0.499631   \n",
       "2         -0.666193          -0.508726      -0.847351         0.646751   \n",
       "3         -0.666193          -0.364793      -0.847351         1.137150   \n",
       "4         -0.666193           0.834651      -0.847351         1.137150   \n",
       "\n",
       "   kickReturns  ...  School_Washington State  School_West Virginia  \\\n",
       "0    -0.093289  ...                    False                 False   \n",
       "1     0.476317  ...                    False                 False   \n",
       "2     0.476317  ...                    False                 False   \n",
       "3     0.476317  ...                    False                 False   \n",
       "4     0.476317  ...                    False                 False   \n",
       "\n",
       "   School_Wisconsin  Conference_ACC  Conference_Big 12  Conference_Big Ten  \\\n",
       "0             False            True              False               False   \n",
       "1             False            True              False               False   \n",
       "2             False            True              False               False   \n",
       "3             False            True              False               False   \n",
       "4             False            True              False               False   \n",
       "\n",
       "   Conference_Pac-12  Conference_SEC  HomeAway_away  HomeAway_home  \n",
       "0              False           False          False           True  \n",
       "1              False           False          False           True  \n",
       "2              False           False          False           True  \n",
       "3              False           False          False           True  \n",
       "4              False           False          False           True  \n",
       "\n",
       "[5 rows x 104 columns]"
      ]
     },
     "execution_count": 197,
     "metadata": {},
     "output_type": "execute_result"
    }
   ],
   "source": [
    "# label_encoder = LabelEncoder()\n",
    "\n",
    "# changedtime[['Conference','HomeAway','School']] = changedtime[['Conference','HomeAway','School']].apply(LabelEncoder().fit_transform)\n",
    "\n",
    "changedtime = pd.get_dummies(changedtime)\n",
    "\n",
    "tostandardize = changedtime.iloc[:,1:30]\n",
    "\n",
    "scaler = StandardScaler()\n",
    "\n",
    "standed = scaler.fit_transform(tostandardize)\n",
    "\n",
    "standeddf = pd.DataFrame(standed,columns = tostandardize.columns)\n",
    "\n",
    "# standeddf[['Conference','HomeAway']] = changedtime[['Conference','HomeAway']]\n",
    "\n",
    "#standeddf.head()\n",
    "\n",
    "a = pd.DataFrame(changedtime.iloc[:,0])\n",
    "\n",
    "b = pd.DataFrame(changedtime.iloc[:,31:])\n",
    "\n",
    "# standeddf.iloc[:,:30]\n",
    "\n",
    "standeddf = pd.concat([a,standeddf,b],axis=1)\n",
    "\n",
    "standeddf.head()\n"
   ]
  },
  {
   "cell_type": "code",
   "execution_count": 49,
   "id": "9b80e324",
   "metadata": {},
   "outputs": [],
   "source": [
    "#standeddf.dtypes"
   ]
  },
  {
   "cell_type": "markdown",
   "id": "ffaf07a0",
   "metadata": {},
   "source": [
    "- We need to learn which variable is correlated most with the dependent target variable. This will give us a basis regression model that we can hope to improve. "
   ]
  },
  {
   "cell_type": "code",
   "execution_count": 224,
   "id": "c0d0cf3a",
   "metadata": {},
   "outputs": [
    {
     "data": {
      "text/plain": [
       "Points                 1.000000\n",
       "totalYards             0.802558\n",
       "firstDowns             0.653798\n",
       "yardsPerPass           0.614064\n",
       "rushingYards           0.572163\n",
       "thirdDownEff           0.533052\n",
       "yardsPerRushAttempt    0.500529\n",
       "completionAttempts     0.483505\n",
       "netPassingYards        0.480468\n",
       "rushingAttempts        0.311768\n",
       "Name: Points, dtype: float64"
      ]
     },
     "execution_count": 224,
     "metadata": {},
     "output_type": "execute_result"
    }
   ],
   "source": [
    "mat = standeddf.corr(method='pearson')\n",
    "\n",
    "\n",
    "uppcor = mat.where(np.triu(np.ones(mat.shape), k=1).astype(bool))\n",
    "\n",
    "uniq = uppcor.unstack().dropna()\n",
    "\n",
    "sormat = uniq.sort_values(ascending =False)\n",
    "\n",
    "sormat.shape\n",
    "\n",
    "abs(mat['Points']).sort_values(ascending=False).nlargest(10)"
   ]
  },
  {
   "cell_type": "markdown",
   "id": "a711fa92",
   "metadata": {},
   "source": [
    "- We need to check our variables for multicollinearity. We will do this by using the variance inflation factor\n",
    "\n",
    "- Here we will just check and we see that there is indeed high multicollinearity\n",
    "\n",
    "- We will deal with these two cells down"
   ]
  },
  {
   "cell_type": "code",
   "execution_count": 198,
   "id": "a3926203",
   "metadata": {},
   "outputs": [
    {
     "data": {
      "text/plain": [
       "turnovers              3.316300e+14\n",
       "totalYards             2.587407e+14\n",
       "interceptions          1.892608e+14\n",
       "netPassingYards        1.640541e+14\n",
       "rushingYards           1.394029e+14\n",
       "fumblesLost            1.387461e+14\n",
       "penaltyYards           5.308729e+00\n",
       "firstDowns             5.292531e+00\n",
       "totalPenalties         5.279858e+00\n",
       "rushingAttempts        4.439856e+00\n",
       "yardsPerRushAttempt    4.183969e+00\n",
       "kickReturns            3.936393e+00\n",
       "kickReturnYards        3.778718e+00\n",
       "yardsPerPass           2.960512e+00\n",
       "completionAttempts     2.017977e+00\n",
       "puntReturns            1.804563e+00\n",
       "possessionTime         1.787103e+00\n",
       "thirdDownEff           1.783566e+00\n",
       "tacklesForLoss         1.748750e+00\n",
       "totalFumbles           1.697552e+00\n",
       "sacks                  1.690335e+00\n",
       "puntReturnYards        1.642561e+00\n",
       "passesIntercepted      1.583275e+00\n",
       "interceptionYards      1.525794e+00\n",
       "tackles                1.256343e+00\n",
       "passesDeflected        1.137717e+00\n",
       "qbHurries              1.108499e+00\n",
       "fourthDownEff          1.081321e+00\n",
       "fumblesRecovered       1.061552e+00\n",
       "Name: VIF, dtype: float64"
      ]
     },
     "execution_count": 198,
     "metadata": {},
     "output_type": "execute_result"
    }
   ],
   "source": [
    "pd.set_option('display.max_rows',None)\n",
    "\n",
    "takeouty = standeddf.iloc[:,1:30]\n",
    "\n",
    "vifs = pd.Series(np.linalg.inv(takeouty.corr().to_numpy()).diagonal(),\n",
    "                index=takeouty.columns,name=\"VIF\")\n",
    "\n",
    "abs(vifs).sort_values(ascending=False)"
   ]
  },
  {
   "cell_type": "markdown",
   "id": "778bf607",
   "metadata": {},
   "source": [
    "- This is just validation of the vif using an intercept, the intercept has no impact on the vif scores\n",
    "\n",
    "- The warning is fine, division was by extremely small number which creates the inf you see in the table"
   ]
  },
  {
   "cell_type": "code",
   "execution_count": 225,
   "id": "8ccda5c4",
   "metadata": {},
   "outputs": [
    {
     "name": "stderr",
     "output_type": "stream",
     "text": [
      "/Users/michaelguel/anaconda3/lib/python3.11/site-packages/statsmodels/stats/outliers_influence.py:198: RuntimeWarning: divide by zero encountered in scalar divide\n",
      "  vif = 1. / (1. - r_squared_i)\n"
     ]
    },
    {
     "data": {
      "text/html": [
       "<div>\n",
       "<style scoped>\n",
       "    .dataframe tbody tr th:only-of-type {\n",
       "        vertical-align: middle;\n",
       "    }\n",
       "\n",
       "    .dataframe tbody tr th {\n",
       "        vertical-align: top;\n",
       "    }\n",
       "\n",
       "    .dataframe thead th {\n",
       "        text-align: right;\n",
       "    }\n",
       "</style>\n",
       "<table border=\"1\" class=\"dataframe\">\n",
       "  <thead>\n",
       "    <tr style=\"text-align: right;\">\n",
       "      <th></th>\n",
       "      <th>VIF</th>\n",
       "      <th>features</th>\n",
       "    </tr>\n",
       "  </thead>\n",
       "  <tbody>\n",
       "    <tr>\n",
       "      <th>4</th>\n",
       "      <td>inf</td>\n",
       "      <td>fumblesLost</td>\n",
       "    </tr>\n",
       "    <tr>\n",
       "      <th>24</th>\n",
       "      <td>inf</td>\n",
       "      <td>turnovers</td>\n",
       "    </tr>\n",
       "    <tr>\n",
       "      <th>7</th>\n",
       "      <td>inf</td>\n",
       "      <td>interceptions</td>\n",
       "    </tr>\n",
       "    <tr>\n",
       "      <th>10</th>\n",
       "      <td>inf</td>\n",
       "      <td>netPassingYards</td>\n",
       "    </tr>\n",
       "    <tr>\n",
       "      <th>23</th>\n",
       "      <td>inf</td>\n",
       "      <td>totalYards</td>\n",
       "    </tr>\n",
       "    <tr>\n",
       "      <th>17</th>\n",
       "      <td>inf</td>\n",
       "      <td>rushingYards</td>\n",
       "    </tr>\n",
       "    <tr>\n",
       "      <th>28</th>\n",
       "      <td>5.308729</td>\n",
       "      <td>penaltyYards</td>\n",
       "    </tr>\n",
       "    <tr>\n",
       "      <th>2</th>\n",
       "      <td>5.292531</td>\n",
       "      <td>firstDowns</td>\n",
       "    </tr>\n",
       "    <tr>\n",
       "      <th>27</th>\n",
       "      <td>5.279858</td>\n",
       "      <td>totalPenalties</td>\n",
       "    </tr>\n",
       "    <tr>\n",
       "      <th>16</th>\n",
       "      <td>4.439856</td>\n",
       "      <td>rushingAttempts</td>\n",
       "    </tr>\n",
       "    <tr>\n",
       "      <th>26</th>\n",
       "      <td>4.183969</td>\n",
       "      <td>yardsPerRushAttempt</td>\n",
       "    </tr>\n",
       "    <tr>\n",
       "      <th>9</th>\n",
       "      <td>3.936393</td>\n",
       "      <td>kickReturns</td>\n",
       "    </tr>\n",
       "    <tr>\n",
       "      <th>8</th>\n",
       "      <td>3.778718</td>\n",
       "      <td>kickReturnYards</td>\n",
       "    </tr>\n",
       "    <tr>\n",
       "      <th>25</th>\n",
       "      <td>2.960512</td>\n",
       "      <td>yardsPerPass</td>\n",
       "    </tr>\n",
       "    <tr>\n",
       "      <th>1</th>\n",
       "      <td>2.017977</td>\n",
       "      <td>completionAttempts</td>\n",
       "    </tr>\n",
       "    <tr>\n",
       "      <th>14</th>\n",
       "      <td>1.804563</td>\n",
       "      <td>puntReturns</td>\n",
       "    </tr>\n",
       "    <tr>\n",
       "      <th>29</th>\n",
       "      <td>1.787103</td>\n",
       "      <td>possessionTime</td>\n",
       "    </tr>\n",
       "    <tr>\n",
       "      <th>21</th>\n",
       "      <td>1.783566</td>\n",
       "      <td>thirdDownEff</td>\n",
       "    </tr>\n",
       "    <tr>\n",
       "      <th>20</th>\n",
       "      <td>1.748750</td>\n",
       "      <td>tacklesForLoss</td>\n",
       "    </tr>\n",
       "    <tr>\n",
       "      <th>22</th>\n",
       "      <td>1.697552</td>\n",
       "      <td>totalFumbles</td>\n",
       "    </tr>\n",
       "    <tr>\n",
       "      <th>18</th>\n",
       "      <td>1.690335</td>\n",
       "      <td>sacks</td>\n",
       "    </tr>\n",
       "    <tr>\n",
       "      <th>13</th>\n",
       "      <td>1.642561</td>\n",
       "      <td>puntReturnYards</td>\n",
       "    </tr>\n",
       "    <tr>\n",
       "      <th>12</th>\n",
       "      <td>1.583275</td>\n",
       "      <td>passesIntercepted</td>\n",
       "    </tr>\n",
       "    <tr>\n",
       "      <th>6</th>\n",
       "      <td>1.525794</td>\n",
       "      <td>interceptionYards</td>\n",
       "    </tr>\n",
       "    <tr>\n",
       "      <th>19</th>\n",
       "      <td>1.256343</td>\n",
       "      <td>tackles</td>\n",
       "    </tr>\n",
       "    <tr>\n",
       "      <th>11</th>\n",
       "      <td>1.137717</td>\n",
       "      <td>passesDeflected</td>\n",
       "    </tr>\n",
       "    <tr>\n",
       "      <th>15</th>\n",
       "      <td>1.108499</td>\n",
       "      <td>qbHurries</td>\n",
       "    </tr>\n",
       "    <tr>\n",
       "      <th>3</th>\n",
       "      <td>1.081321</td>\n",
       "      <td>fourthDownEff</td>\n",
       "    </tr>\n",
       "    <tr>\n",
       "      <th>5</th>\n",
       "      <td>1.061552</td>\n",
       "      <td>fumblesRecovered</td>\n",
       "    </tr>\n",
       "    <tr>\n",
       "      <th>0</th>\n",
       "      <td>1.000000</td>\n",
       "      <td>Intercept</td>\n",
       "    </tr>\n",
       "  </tbody>\n",
       "</table>\n",
       "</div>"
      ],
      "text/plain": [
       "         VIF             features\n",
       "4        inf          fumblesLost\n",
       "24       inf            turnovers\n",
       "7        inf        interceptions\n",
       "10       inf      netPassingYards\n",
       "23       inf           totalYards\n",
       "17       inf         rushingYards\n",
       "28  5.308729         penaltyYards\n",
       "2   5.292531           firstDowns\n",
       "27  5.279858       totalPenalties\n",
       "16  4.439856      rushingAttempts\n",
       "26  4.183969  yardsPerRushAttempt\n",
       "9   3.936393          kickReturns\n",
       "8   3.778718      kickReturnYards\n",
       "25  2.960512         yardsPerPass\n",
       "1   2.017977   completionAttempts\n",
       "14  1.804563          puntReturns\n",
       "29  1.787103       possessionTime\n",
       "21  1.783566         thirdDownEff\n",
       "20  1.748750       tacklesForLoss\n",
       "22  1.697552         totalFumbles\n",
       "18  1.690335                sacks\n",
       "13  1.642561      puntReturnYards\n",
       "12  1.583275    passesIntercepted\n",
       "6   1.525794    interceptionYards\n",
       "19  1.256343              tackles\n",
       "11  1.137717      passesDeflected\n",
       "15  1.108499            qbHurries\n",
       "3   1.081321        fourthDownEff\n",
       "5   1.061552     fumblesRecovered\n",
       "0   1.000000            Intercept"
      ]
     },
     "execution_count": 225,
     "metadata": {},
     "output_type": "execute_result"
    }
   ],
   "source": [
    "from patsy import dmatrices\n",
    "\n",
    "yout = standeddf.iloc[:,1:30]\n",
    "\n",
    "features = '+'.join(yout.columns)\n",
    "\n",
    "y,X = dmatrices(\"Points ~\" + features ,standeddf,return_type='dataframe')\n",
    "\n",
    "vif = pd.DataFrame()\n",
    "vif['VIF'] = [variance_inflation_factor(X.values,i)for i in range(X.shape[1])]\n",
    "vif['features'] = X.columns\n",
    "vif.sort_values(by='VIF',ascending=False)"
   ]
  },
  {
   "cell_type": "markdown",
   "id": "fee629f6",
   "metadata": {},
   "source": [
    "- We are now going to iteratively remove high vif variables\n",
    "\n",
    "- We will start with the greatest vif, remove and continue to the next highest vif\n",
    "\n",
    "- This will continue until we reach a set of variables that all vif are < 2.5"
   ]
  },
  {
   "cell_type": "code",
   "execution_count": 200,
   "id": "03420a30",
   "metadata": {},
   "outputs": [
    {
     "data": {
      "text/plain": [
       "firstDowns             2.185928\n",
       "completionAttempts     1.998600\n",
       "puntReturns            1.780558\n",
       "thirdDownEff           1.769318\n",
       "yardsPerPass           1.751741\n",
       "possessionTime         1.749949\n",
       "tacklesForLoss         1.745198\n",
       "rushingAttempts        1.740385\n",
       "totalFumbles           1.684858\n",
       "sacks                  1.683046\n",
       "puntReturnYards        1.635736\n",
       "fumblesLost            1.582962\n",
       "passesIntercepted      1.571982\n",
       "interceptionYards      1.520574\n",
       "yardsPerRushAttempt    1.296518\n",
       "tackles                1.246486\n",
       "interceptions          1.138035\n",
       "passesDeflected        1.131372\n",
       "qbHurries              1.105242\n",
       "fourthDownEff          1.075703\n",
       "kickReturnYards        1.065970\n",
       "fumblesRecovered       1.058791\n",
       "totalPenalties         1.029934\n",
       "Name: VIF, dtype: float64"
      ]
     },
     "execution_count": 200,
     "metadata": {},
     "output_type": "execute_result"
    }
   ],
   "source": [
    "col = ['turnovers','totalYards','rushingYards','penaltyYards','netPassingYards','kickReturns']\n",
    "\n",
    "tryagain = takeouty[takeouty.columns[~takeouty.columns.isin(col)]]\n",
    "\n",
    "vifs = pd.Series(np.linalg.inv(tryagain.corr().to_numpy()).diagonal(),\n",
    "                index=tryagain.columns,name=\"VIF\")\n",
    "\n",
    "abs(vifs).sort_values(ascending=False)\n",
    "\n"
   ]
  },
  {
   "cell_type": "markdown",
   "id": "e2de32cf",
   "metadata": {},
   "source": [
    "- We will use the remaining variables after vif to construct a new dataframe that has little multicollinearity\n",
    "\n",
    "- Assign both revised dataframe and original to new names to be used in the models"
   ]
  },
  {
   "cell_type": "code",
   "execution_count": 228,
   "id": "08a00025",
   "metadata": {},
   "outputs": [],
   "source": [
    "vifx = pd.concat([tryagain,b],axis=1)\n",
    "\n",
    "full = standeddf.iloc[:,1:]\n",
    "\n",
    "y = pd.DataFrame(standeddf.iloc[:,0])"
   ]
  },
  {
   "cell_type": "code",
   "execution_count": 229,
   "id": "d4db0385",
   "metadata": {},
   "outputs": [],
   "source": [
    "X = full\n",
    "\n",
    "Y = y\n",
    "\n",
    "start_state = 24\n",
    "\n",
    "test_fraction = 0.2\n",
    "\n",
    "X_train, X_test, y_train, y_test = train_test_split(X,Y,test_size = test_fraction,random_state=start_state)"
   ]
  },
  {
   "cell_type": "code",
   "execution_count": 230,
   "id": "da6c548e",
   "metadata": {},
   "outputs": [
    {
     "name": "stdout",
     "output_type": "stream",
     "text": [
      "0.6422712619463535\n",
      "[0.60131278 0.65648358 0.63638049 0.63993667 0.66748286]\n"
     ]
    }
   ],
   "source": [
    "basis = LinearRegression()\n",
    "\n",
    "basismodel = basis.fit(X_train[['totalYards']],y_train)\n",
    "\n",
    "print(basismodel.score(X_test[['totalYards']],y_test))\n",
    "\n",
    "print(cross_val_score(basis,X[['totalYards']],Y,cv=5))"
   ]
  },
  {
   "cell_type": "code",
   "execution_count": 231,
   "id": "3366bf37",
   "metadata": {},
   "outputs": [
    {
     "name": "stdout",
     "output_type": "stream",
     "text": [
      "0.7786444888122558\n",
      "[ 7.39169462e-01 -4.38622482e+19  7.75199315e-01  7.41763289e-01\n",
      "  7.97634446e-01]\n"
     ]
    }
   ],
   "source": [
    "estimator1 = LinearRegression()\n",
    "\n",
    "model1 = estimator1.fit(X_train,y_train)\n",
    "\n",
    "print(model1.score(X_test,y_test))\n",
    "\n",
    "print(cross_val_score(estimator1,X,Y,cv=5))"
   ]
  },
  {
   "cell_type": "code",
   "execution_count": 232,
   "id": "34f24900",
   "metadata": {},
   "outputs": [
    {
     "name": "stdout",
     "output_type": "stream",
     "text": [
      "0.4416673446072009\n",
      "[0.45814737 0.47555234 0.49482162 0.46775037 0.52678546]\n"
     ]
    }
   ],
   "source": [
    "estimator2 = DecisionTreeRegressor()\n",
    "\n",
    "model2 = estimator2.fit(X_train,y_train)\n",
    "\n",
    "print(model2.score(X_test,y_test))\n",
    "\n",
    "print(cross_val_score(estimator2,X,Y,cv=5))"
   ]
  },
  {
   "cell_type": "code",
   "execution_count": 233,
   "id": "13fe718d",
   "metadata": {},
   "outputs": [
    {
     "name": "stdout",
     "output_type": "stream",
     "text": [
      "0.7459463689573976\n",
      "[0.72976585 0.76512071 0.76184173 0.75444421 0.77688249]\n"
     ]
    }
   ],
   "source": [
    "estimator3 = RandomForestRegressor(n_estimators=100)\n",
    "\n",
    "model3 = estimator3.fit(X_train,np.ravel(y_train))\n",
    "\n",
    "print(model3.score(X_test,y_test))\n",
    "\n",
    "print(cross_val_score(estimator3,X,np.ravel(Y),cv=5))"
   ]
  },
  {
   "cell_type": "code",
   "execution_count": 234,
   "id": "574a78d4",
   "metadata": {},
   "outputs": [
    {
     "name": "stdout",
     "output_type": "stream",
     "text": [
      "0.7379992625900846\n",
      "[0.72546821 0.75997871 0.75693882 0.74529036 0.7816779 ]\n"
     ]
    }
   ],
   "source": [
    "estimator4 = xgb.XGBRegressor(objective='reg:squarederror')\n",
    "\n",
    "model4 = estimator4.fit(X_train,y_train)\n",
    "\n",
    "print(model4.score(X_test,y_test))\n",
    "\n",
    "print(cross_val_score(estimator4,X,Y,cv=5))"
   ]
  },
  {
   "cell_type": "code",
   "execution_count": 256,
   "id": "b2ce891a",
   "metadata": {},
   "outputs": [
    {
     "data": {
      "text/plain": [
       "[<matplotlib.lines.Line2D at 0x28169c7d0>]"
      ]
     },
     "execution_count": 256,
     "metadata": {},
     "output_type": "execute_result"
    },
    {
     "data": {
      "image/png": "[encoded data removed]",
      "text/plain": [
       "<Figure size 640x480 with 1 Axes>"
      ]
     },
     "metadata": {},
     "output_type": "display_data"
    }
   ],
   "source": [
    "pca = PCA()\n",
    "\n",
    "X_train_pc = pca.fit_transform(X_train)\n",
    "\n",
    "#print(pca.explained_variance_ratio_)\n",
    "\n",
    "rmse_list = []\n",
    "\n",
    "for i in range(1, X_train_pc.shape[1]+1):\n",
    "    rmse_score = -1 * cross_val_score(estimator1,X_train_pc[:,:i],\n",
    "                                     y_train,\n",
    "                                     scoring = 'neg_root_mean_squared_error').mean()\n",
    "    rmse_list.append(rmse_score)\n",
    "\n",
    "plt.plot(rmse_list,'-o')"
   ]
  },
  {
   "cell_type": "code",
   "execution_count": 257,
   "id": "c6f80a11",
   "metadata": {},
   "outputs": [
    {
     "name": "stdout",
     "output_type": "stream",
     "text": [
      "0.7791284380692346\n",
      "[0.74030112 0.70259101 0.77527401 0.74095701 0.7981166 ]\n"
     ]
    }
   ],
   "source": [
    "pcnum = 35\n",
    "\n",
    "model5 = LinearRegression().fit(X_train_pc[:,:pcnum],y_train)\n",
    "\n",
    "X_test_pc = pca.transform(X_test)[:,:pcnum]\n",
    "\n",
    "print(model5.score(X_test_pc,y_test))\n",
    "\n",
    "X_cross_pc = pca.transform(X)\n",
    "\n",
    "print(cross_val_score(estimator1,X_cross_pc,Y,cv=5))"
   ]
  }
 ],
 "metadata": {
  "kernelspec": {
   "display_name": "Python 3 (ipykernel)",
   "language": "python",
   "name": "python3"
  },
  "language_info": {
   "codemirror_mode": {
    "name": "ipython",
    "version": 3
   },
   "file_extension": ".py",
   "mimetype": "text/x-python",
   "name": "python",
   "nbconvert_exporter": "python",
   "pygments_lexer": "ipython3",
   "version": "3.11.5"
  }
 },
 "nbformat": 4,
 "nbformat_minor": 5
}
